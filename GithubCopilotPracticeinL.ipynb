{
  "nbformat": 4,
  "nbformat_minor": 0,
  "metadata": {
    "colab": {
      "provenance": []
    },
    "kernelspec": {
      "name": "python3",
      "display_name": "Python 3"
    },
    "language_info": {
      "name": "python"
    }
  },
  "cells": [
    {
      "cell_type": "code",
      "execution_count": null,
      "metadata": {
        "id": "f4Jz4K2MWODr"
      },
      "outputs": [],
      "source": []
    },
    {
      "cell_type": "markdown",
      "source": [
        "##Git Hub Copilot practice"
      ],
      "metadata": {
        "id": "yx6HWodvWW3Z"
      }
    },
    {
      "cell_type": "code",
      "source": [],
      "metadata": {
        "id": "QYmUIrVVWYHB"
      },
      "execution_count": null,
      "outputs": []
    }
  ]
}